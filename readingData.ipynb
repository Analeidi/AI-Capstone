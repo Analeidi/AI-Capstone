{
  "nbformat": 4,
  "nbformat_minor": 0,
  "metadata": {
    "colab": {
      "name": "readingData.ipynb",
      "provenance": [],
      "mount_file_id": "https://github.com/Analeidi/AI-Capstone/blob/main/readingData.ipynb",
      "authorship_tag": "ABX9TyNAwGNF5d7CbuFGOin0xvo4",
      "include_colab_link": true
    },
    "kernelspec": {
      "name": "python3",
      "display_name": "Python 3"
    }
  },
  "cells": [
    {
      "cell_type": "markdown",
      "metadata": {
        "id": "view-in-github",
        "colab_type": "text"
      },
      "source": [
        "<a href=\"https://colab.research.google.com/github/Analeidi/AI-Capstone/blob/main/readingData.ipynb\" target=\"_parent\"><img src=\"https://colab.research.google.com/assets/colab-badge.svg\" alt=\"Open In Colab\"/></a>"
      ]
    },
    {
      "cell_type": "markdown",
      "metadata": {
        "id": "-ZuLEI9yhSiM"
      },
      "source": [
        "# Reading Data"
      ]
    },
    {
      "cell_type": "code",
      "metadata": {
        "id": "6g1fAxnAhdAH"
      },
      "source": [
        "import sqlite3\n",
        "import json\n",
        "from datetime import datetime"
      ],
      "execution_count": 1,
      "outputs": []
    },
    {
      "cell_type": "code",
      "metadata": {
        "id": "_2krL0Nshgfz"
      },
      "source": [
        "timeframe = '2009-01'\n",
        "sql_transaction = []\n",
        "\n",
        "connection = sqlite3.connect(\"/content/drive/MyDrive/Colab Notebooks/'{}.db'.format(timeframe)\")\n",
        "c = connection.cursor()"
      ],
      "execution_count": 2,
      "outputs": []
    },
    {
      "cell_type": "code",
      "metadata": {
        "id": "7eg6iBQvhkC6"
      },
      "source": [
        "def create_table():\n",
        "    c.execute(\"\"\"CREATE TABLE IF NOT EXISTS parent_reply \n",
        "    (parent_id TEXT PRIMARY KEY, comment_id TEXT UNIQUE, parent TEXT, \n",
        "    comment TEXT, subreddit TEXT, unix INT, score INT)\"\"\")\n",
        "\n",
        "\n",
        "def format_data(data):\n",
        "    data = data.replace(\"\\n\", \"  newlinechar  \").replace(\"\\r\", \"  newlinechar  \").replace(' \" ', \" ' \")\n",
        "    return data\n",
        "\n",
        "\n",
        "def find_existing_score(pid):\n",
        "    try: \n",
        "        sql = \"SELECT score FROM parent_reply WHERE parent_id = '{}' LIMIT 1\".format(pid)\n",
        "        c.execute(sql)\n",
        "        result = c.fetchone()\n",
        "        if result != None:\n",
        "            return result[0]\n",
        "        else:\n",
        "            return False\n",
        "    except Exception as e:\n",
        "        print(\"find_parent\", e)\n",
        "        return False"
      ],
      "execution_count": 3,
      "outputs": []
    },
    {
      "cell_type": "code",
      "metadata": {
        "id": "VrSZYaWwibIO"
      },
      "source": [
        "def acceptable(data):\n",
        "    if len(data.split(' ')) > 50 or len(data) < 1:\n",
        "        return False\n",
        "    elif len(data) > 10000:\n",
        "        return False\n",
        "    elif data == '[deleted]' or data == '[removed]':\n",
        "        return False\n",
        "    else:\n",
        "        return True\n",
        "\n",
        "\n",
        "def find_parent(pid):\n",
        "    try: \n",
        "        sql = \"SELECT comment FROM parent_reply WHERE comment_id = '{}' LIMIT 1\".format(pid)\n",
        "        c.execute(sql)\n",
        "        result = c.fetchone()\n",
        "        if result != None:\n",
        "            return result[0]\n",
        "        else:\n",
        "            return False\n",
        "    except Exception as e:\n",
        "        print(\"find_parent\", e)\n",
        "        return False\n",
        "        \n",
        "def transaction_bldr(sql):\n",
        "    global sql_transaction\n",
        "    sql_transaction.append(sql)\n",
        "    if len(sql_transaction) > 1000:\n",
        "        c.execute('BEGIN TRANSACTION')\n",
        "        for s in sql_transaction:\n",
        "            try:\n",
        "                c.execute(s)\n",
        "            except:\n",
        "                pass\n",
        "        connection.commit()\n",
        "        sql_transaction = []\n"
      ],
      "execution_count": 4,
      "outputs": []
    },
    {
      "cell_type": "code",
      "metadata": {
        "id": "YLB81r6mij1a"
      },
      "source": [
        "def sql_insert_replace_comment(commentid,parentid,parent,comment,subreddit,time,score):\n",
        "    try:\n",
        "        sql = \"\"\"UPDATE parent_reply SET parent_id = ?, comment_id = ?, parent = ?, comment = ?, subreddit = ?, unix = ?, score = ? WHERE parent_id =?;\"\"\".format(parentid, commentid, parent, comment, subreddit, int(time), score, parentid)\n",
        "        transaction_bldr(sql)\n",
        "    except Exception as e:\n",
        "        print('s0 insertion',str(e))\n",
        "\n",
        "\n",
        "def sql_insert_has_parent(commentid,parentid,parent,comment,subreddit,time,score):\n",
        "    try:\n",
        "        sql = \"\"\"INSERT INTO parent_reply (parent_id, comment_id, parent, comment, subreddit, unix, score) VALUES (\"{}\",\"{}\",\"{}\",\"{}\",\"{}\",{},{});\"\"\".format(parentid, commentid, parent, comment, subreddit, int(time), score)\n",
        "        transaction_bldr(sql)\n",
        "    except Exception as e:\n",
        "        print('s0 insertion',str(e))\n",
        "\n",
        "\n",
        "def sql_insert_no_parent(commentid,parentid,comment,subreddit,time,score):\n",
        "    try:\n",
        "        sql = \"\"\"INSERT INTO parent_reply (parent_id, comment_id, comment, subreddit, unix, score) VALUES (\"{}\",\"{}\",\"{}\",\"{}\",{},{});\"\"\".format(parentid, commentid, comment, subreddit, int(time), score)\n",
        "        transaction_bldr(sql)\n",
        "    except Exception as e:\n",
        "        print('s0 insertion',str(e))"
      ],
      "execution_count": 5,
      "outputs": []
    },
    {
      "cell_type": "code",
      "metadata": {
        "id": "teAq_7tviu-R",
        "outputId": "bf4496c9-bd69-439b-988d-b5cdcafb022d",
        "colab": {
          "base_uri": "https://localhost:8080/"
        }
      },
      "source": [
        "if __name__== \"__main__\":\n",
        "    create_table()\n",
        "    row_counter = 0 \n",
        "    row_counter = 0 \n",
        "    paired_rows = 0 \n",
        "    #The data below is being encoded with latin-1 not utf-8\n",
        "    with open(\"/content/drive/MyDrive/Colab Notebooks/RC_2009-01\".format(timeframe.split('-')[0], timeframe), buffering=1000) as f:\n",
        "        for row in f:\n",
        "            row_counter += 1\n",
        "            row = json.loads(row)\n",
        "            parent_id = row['parent_id']\n",
        "            body = format_data(row['body'])\n",
        "            created_utc = row['created_utc']\n",
        "            score = row['score']\n",
        "            subreddit = row['subreddit']\n",
        "            parent_data = find_parent(parent_id) \n",
        "            comment_id = row['name']\n",
        "\n",
        "            if row_counter > 1000000:\n",
        "                break\n",
        "            if score >= 2:\n",
        "                if acceptable(body):\n",
        "                    existing_comment_score = find_existing_score(parent_id)\n",
        "                    if existing_comment_score:\n",
        "                        if score > existing_comment_score:\n",
        "                            sql_insert_replace_comment(comment_id, parent_id, parent_data, body, subreddit, created_utc, score)\n",
        "                    else:\n",
        "                        if parent_data:\n",
        "                            sql_insert_has_parent(comment_id, parent_id, parent_data, body, subreddit, created_utc, score)\n",
        "                            paired_rows += 1\n",
        "                        else:\n",
        "                            sql_insert_no_parent(comment_id, parent_id, body, subreddit, created_utc, score)\n",
        "\n",
        "            if row_counter % 10000 == 0:\n",
        "                print(\"Total rows read: {}, Paired rows: {}, Time: {}\".format(row_counter, paired_rows, str(datetime.now())))"
      ],
      "execution_count": 9,
      "outputs": [
        {
          "output_type": "stream",
          "text": [
            "Total rows read: 10000, Paired rows: 20, Time: 2020-12-10 09:36:53.758756\n",
            "Total rows read: 20000, Paired rows: 49, Time: 2020-12-10 09:36:54.235226\n",
            "Total rows read: 30000, Paired rows: 71, Time: 2020-12-10 09:36:54.735013\n",
            "Total rows read: 40000, Paired rows: 104, Time: 2020-12-10 09:36:55.217234\n",
            "Total rows read: 50000, Paired rows: 139, Time: 2020-12-10 09:36:55.699212\n",
            "Total rows read: 60000, Paired rows: 159, Time: 2020-12-10 09:36:56.188746\n",
            "Total rows read: 70000, Paired rows: 182, Time: 2020-12-10 09:36:56.704922\n",
            "Total rows read: 80000, Paired rows: 201, Time: 2020-12-10 09:36:57.203596\n",
            "Total rows read: 90000, Paired rows: 233, Time: 2020-12-10 09:36:57.722054\n",
            "Total rows read: 100000, Paired rows: 247, Time: 2020-12-10 09:36:58.207171\n",
            "Total rows read: 110000, Paired rows: 269, Time: 2020-12-10 09:36:58.677903\n",
            "Total rows read: 120000, Paired rows: 287, Time: 2020-12-10 09:36:59.174845\n",
            "Total rows read: 130000, Paired rows: 310, Time: 2020-12-10 09:36:59.649864\n",
            "Total rows read: 140000, Paired rows: 335, Time: 2020-12-10 09:37:00.155111\n",
            "Total rows read: 150000, Paired rows: 371, Time: 2020-12-10 09:37:00.632963\n",
            "Total rows read: 160000, Paired rows: 395, Time: 2020-12-10 09:37:01.092675\n",
            "Total rows read: 170000, Paired rows: 424, Time: 2020-12-10 09:37:01.643742\n",
            "Total rows read: 180000, Paired rows: 446, Time: 2020-12-10 09:37:02.133757\n",
            "Total rows read: 190000, Paired rows: 468, Time: 2020-12-10 09:37:02.612698\n",
            "Total rows read: 200000, Paired rows: 500, Time: 2020-12-10 09:37:03.076645\n",
            "Total rows read: 210000, Paired rows: 531, Time: 2020-12-10 09:37:03.553740\n",
            "Total rows read: 220000, Paired rows: 555, Time: 2020-12-10 09:37:04.050230\n",
            "Total rows read: 230000, Paired rows: 576, Time: 2020-12-10 09:37:04.533386\n",
            "Total rows read: 240000, Paired rows: 601, Time: 2020-12-10 09:37:05.005092\n",
            "Total rows read: 250000, Paired rows: 624, Time: 2020-12-10 09:37:05.511776\n",
            "Total rows read: 260000, Paired rows: 656, Time: 2020-12-10 09:37:05.987419\n",
            "Total rows read: 270000, Paired rows: 675, Time: 2020-12-10 09:37:06.440365\n",
            "Total rows read: 280000, Paired rows: 692, Time: 2020-12-10 09:37:06.935005\n",
            "Total rows read: 290000, Paired rows: 713, Time: 2020-12-10 09:37:07.418080\n",
            "Total rows read: 300000, Paired rows: 741, Time: 2020-12-10 09:37:07.903341\n",
            "Total rows read: 310000, Paired rows: 762, Time: 2020-12-10 09:37:08.357917\n",
            "Total rows read: 320000, Paired rows: 778, Time: 2020-12-10 09:37:08.824554\n",
            "Total rows read: 330000, Paired rows: 810, Time: 2020-12-10 09:37:09.329976\n",
            "Total rows read: 340000, Paired rows: 837, Time: 2020-12-10 09:37:09.803565\n",
            "Total rows read: 350000, Paired rows: 862, Time: 2020-12-10 09:37:10.326445\n",
            "Total rows read: 360000, Paired rows: 894, Time: 2020-12-10 09:37:10.861626\n",
            "Total rows read: 370000, Paired rows: 927, Time: 2020-12-10 09:37:11.535403\n",
            "Total rows read: 380000, Paired rows: 946, Time: 2020-12-10 09:37:12.134693\n",
            "Total rows read: 390000, Paired rows: 976, Time: 2020-12-10 09:37:12.677957\n",
            "Total rows read: 400000, Paired rows: 1008, Time: 2020-12-10 09:37:13.214331\n",
            "Total rows read: 410000, Paired rows: 1038, Time: 2020-12-10 09:37:13.791721\n",
            "Total rows read: 420000, Paired rows: 1068, Time: 2020-12-10 09:37:14.531976\n",
            "Total rows read: 430000, Paired rows: 1110, Time: 2020-12-10 09:37:15.069227\n",
            "Total rows read: 440000, Paired rows: 1132, Time: 2020-12-10 09:37:15.581481\n",
            "Total rows read: 450000, Paired rows: 1159, Time: 2020-12-10 09:37:16.073399\n",
            "Total rows read: 460000, Paired rows: 1190, Time: 2020-12-10 09:37:16.534945\n",
            "Total rows read: 470000, Paired rows: 1222, Time: 2020-12-10 09:37:16.999553\n",
            "Total rows read: 480000, Paired rows: 1257, Time: 2020-12-10 09:37:17.469443\n",
            "Total rows read: 490000, Paired rows: 1279, Time: 2020-12-10 09:37:17.927398\n",
            "Total rows read: 500000, Paired rows: 1303, Time: 2020-12-10 09:37:18.382639\n",
            "Total rows read: 510000, Paired rows: 1329, Time: 2020-12-10 09:37:18.842560\n",
            "Total rows read: 520000, Paired rows: 1356, Time: 2020-12-10 09:37:19.292237\n",
            "Total rows read: 530000, Paired rows: 1383, Time: 2020-12-10 09:37:19.760241\n",
            "Total rows read: 540000, Paired rows: 1411, Time: 2020-12-10 09:37:20.233268\n",
            "Total rows read: 550000, Paired rows: 1434, Time: 2020-12-10 09:37:20.690710\n",
            "Total rows read: 560000, Paired rows: 1459, Time: 2020-12-10 09:37:21.154034\n",
            "Total rows read: 570000, Paired rows: 1485, Time: 2020-12-10 09:37:21.616969\n",
            "Total rows read: 580000, Paired rows: 1511, Time: 2020-12-10 09:37:22.084380\n",
            "Total rows read: 590000, Paired rows: 1542, Time: 2020-12-10 09:37:22.563489\n",
            "Total rows read: 600000, Paired rows: 1568, Time: 2020-12-10 09:37:23.042478\n",
            "Total rows read: 610000, Paired rows: 1591, Time: 2020-12-10 09:37:23.558010\n",
            "Total rows read: 620000, Paired rows: 1614, Time: 2020-12-10 09:37:24.015769\n",
            "Total rows read: 630000, Paired rows: 1635, Time: 2020-12-10 09:37:24.467541\n",
            "Total rows read: 640000, Paired rows: 1650, Time: 2020-12-10 09:37:24.917450\n",
            "Total rows read: 650000, Paired rows: 1680, Time: 2020-12-10 09:37:25.370848\n",
            "Total rows read: 660000, Paired rows: 1703, Time: 2020-12-10 09:37:25.805352\n",
            "Total rows read: 670000, Paired rows: 1730, Time: 2020-12-10 09:37:26.254173\n",
            "Total rows read: 680000, Paired rows: 1760, Time: 2020-12-10 09:37:26.694906\n",
            "Total rows read: 690000, Paired rows: 1785, Time: 2020-12-10 09:37:27.140444\n",
            "Total rows read: 700000, Paired rows: 1807, Time: 2020-12-10 09:37:27.599457\n",
            "Total rows read: 710000, Paired rows: 1825, Time: 2020-12-10 09:37:28.056183\n",
            "Total rows read: 720000, Paired rows: 1861, Time: 2020-12-10 09:37:28.529938\n",
            "Total rows read: 730000, Paired rows: 1887, Time: 2020-12-10 09:37:28.974023\n",
            "Total rows read: 740000, Paired rows: 1909, Time: 2020-12-10 09:37:29.432739\n",
            "Total rows read: 750000, Paired rows: 1931, Time: 2020-12-10 09:37:29.879243\n",
            "Total rows read: 760000, Paired rows: 1963, Time: 2020-12-10 09:37:30.342718\n",
            "Total rows read: 770000, Paired rows: 1989, Time: 2020-12-10 09:37:30.797418\n",
            "Total rows read: 780000, Paired rows: 2012, Time: 2020-12-10 09:37:31.287989\n",
            "Total rows read: 790000, Paired rows: 2046, Time: 2020-12-10 09:37:31.752064\n",
            "Total rows read: 800000, Paired rows: 2067, Time: 2020-12-10 09:37:32.216855\n",
            "Total rows read: 810000, Paired rows: 2085, Time: 2020-12-10 09:37:32.669003\n",
            "Total rows read: 820000, Paired rows: 2102, Time: 2020-12-10 09:37:33.120195\n",
            "Total rows read: 830000, Paired rows: 2125, Time: 2020-12-10 09:37:33.579582\n",
            "Total rows read: 840000, Paired rows: 2150, Time: 2020-12-10 09:37:34.062700\n",
            "Total rows read: 850000, Paired rows: 2175, Time: 2020-12-10 09:37:34.525203\n",
            "Total rows read: 860000, Paired rows: 2203, Time: 2020-12-10 09:37:34.979708\n",
            "Total rows read: 870000, Paired rows: 2225, Time: 2020-12-10 09:37:35.446023\n",
            "Total rows read: 880000, Paired rows: 2246, Time: 2020-12-10 09:37:35.910335\n",
            "Total rows read: 890000, Paired rows: 2275, Time: 2020-12-10 09:37:36.366826\n",
            "Total rows read: 900000, Paired rows: 2303, Time: 2020-12-10 09:37:36.802198\n",
            "Total rows read: 910000, Paired rows: 2330, Time: 2020-12-10 09:37:37.252340\n",
            "Total rows read: 920000, Paired rows: 2347, Time: 2020-12-10 09:37:37.737140\n",
            "Total rows read: 930000, Paired rows: 2376, Time: 2020-12-10 09:37:38.344209\n",
            "Total rows read: 940000, Paired rows: 2401, Time: 2020-12-10 09:37:38.832052\n",
            "Total rows read: 950000, Paired rows: 2419, Time: 2020-12-10 09:37:39.299931\n",
            "Total rows read: 960000, Paired rows: 2443, Time: 2020-12-10 09:37:39.768824\n",
            "Total rows read: 970000, Paired rows: 2465, Time: 2020-12-10 09:37:40.245997\n",
            "Total rows read: 980000, Paired rows: 2485, Time: 2020-12-10 09:37:40.745208\n",
            "Total rows read: 990000, Paired rows: 2508, Time: 2020-12-10 09:37:41.221519\n",
            "Total rows read: 1000000, Paired rows: 2576, Time: 2020-12-10 09:37:41.688040\n"
          ],
          "name": "stdout"
        }
      ]
    }
  ]
}