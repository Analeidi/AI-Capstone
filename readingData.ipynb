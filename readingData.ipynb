{
  "nbformat": 4,
  "nbformat_minor": 0,
  "metadata": {
    "colab": {
      "name": "readingData.ipynb",
      "provenance": [],
      "authorship_tag": "ABX9TyMPcIWF/uRkb63GBB0sfFwV",
      "include_colab_link": true
    },
    "kernelspec": {
      "name": "python3",
      "display_name": "Python 3"
    }
  },
  "cells": [
    {
      "cell_type": "markdown",
      "metadata": {
        "id": "view-in-github",
        "colab_type": "text"
      },
      "source": [
        "<a href=\"https://colab.research.google.com/github/Analeidi/AI-Capstone/blob/main/readingData.ipynb\" target=\"_parent\"><img src=\"https://colab.research.google.com/assets/colab-badge.svg\" alt=\"Open In Colab\"/></a>"
      ]
    },
    {
      "cell_type": "markdown",
      "metadata": {
        "id": "-ZuLEI9yhSiM"
      },
      "source": [
        "# Reading Data"
      ]
    },
    {
      "cell_type": "code",
      "metadata": {
        "id": "6g1fAxnAhdAH"
      },
      "source": [
        "import sqlite3\n",
        "import json\n",
        "from datetime import datetime"
      ],
      "execution_count": null,
      "outputs": []
    },
    {
      "cell_type": "code",
      "metadata": {
        "id": "_2krL0Nshgfz"
      },
      "source": [
        "timeframe = '2009-01'\n",
        "sql_transaction = []\n",
        "\n",
        "connection = sqlite3.connect('{}.db'.format(timeframe))\n",
        "c = connection.cursor()"
      ],
      "execution_count": null,
      "outputs": []
    },
    {
      "cell_type": "code",
      "metadata": {
        "id": "7eg6iBQvhkC6"
      },
      "source": [
        "def create_table():\n",
        "    c.execute(\"\"\"CREATE TABLE IF NOT EXISTS parent_reply \n",
        "    (parent_id TEXT PRIMARY KEY, comment_id TEXT UNIQUE, parent TEXT, \n",
        "    comment TEXT, subreddit TEXT, unix INT, score INT)\"\"\")\n",
        "\n",
        "\n",
        "def format_data(data):\n",
        "    data = data.replace(\"\\n\", \"  newlinechar  \").replace(\"\\r\", \"  newlinechar  \").replace(' \" ', \" ' \")\n",
        "    return data\n",
        "\n",
        "\n",
        "def find_existing_score(pid):\n",
        "    try: \n",
        "        sql = \"SELECT score FROM parent_reply WHERE parent_id = '{}' LIMIT 1\".format(pid)\n",
        "        c.execute(sql)\n",
        "        result = c.fetchone()\n",
        "        if result != None:\n",
        "            return result[0]\n",
        "        else:\n",
        "            return False\n",
        "    except Exception as e:\n",
        "        print(\"find_parent\", e)\n",
        "        return False"
      ],
      "execution_count": null,
      "outputs": []
    },
    {
      "cell_type": "code",
      "metadata": {
        "id": "VrSZYaWwibIO"
      },
      "source": [
        "def acceptable(data):\n",
        "    if len(data.split(' ')) > 50 or len(data) < 1:\n",
        "        return False\n",
        "    elif len(data) > 10000:\n",
        "        return False\n",
        "    elif data == '[deleted]' or data == '[removed]':\n",
        "        return False\n",
        "    else:\n",
        "        return True\n",
        "\n",
        "\n",
        "def find_parent(pid):\n",
        "    try: \n",
        "        sql = \"SELECT comment FROM parent_reply WHERE comment_id = '{}' LIMIT 1\".format(pid)\n",
        "        c.execute(sql)\n",
        "        result = c.fetchone()\n",
        "        if result != None:\n",
        "            return result[0]\n",
        "        else:\n",
        "            return False\n",
        "    except Exception as e:\n",
        "        print(\"find_parent\", e)\n",
        "        return False\n",
        "        \n",
        "def transaction_bldr(sql):\n",
        "    global sql_transaction\n",
        "    sql_transaction.append(sql)\n",
        "    if len(sql_transaction) > 1000:\n",
        "        c.execute('BEGIN TRANSACTION')\n",
        "        for s in sql_transaction:\n",
        "            try:\n",
        "                c.execute(s)\n",
        "            except:\n",
        "                pass\n",
        "        connection.commit()\n",
        "        sql_transaction = []\n"
      ],
      "execution_count": null,
      "outputs": []
    },
    {
      "cell_type": "code",
      "metadata": {
        "id": "YLB81r6mij1a"
      },
      "source": [
        "def sql_insert_replace_comment(commentid,parentid,parent,comment,subreddit,time,score):\n",
        "    try:\n",
        "        sql = \"\"\"UPDATE parent_reply SET parent_id = ?, comment_id = ?, parent = ?, comment = ?, subreddit = ?, unix = ?, score = ? WHERE parent_id =?;\"\"\".format(parentid, commentid, parent, comment, subreddit, int(time), score, parentid)\n",
        "        transaction_bldr(sql)\n",
        "    except Exception as e:\n",
        "        print('s0 insertion',str(e))\n",
        "\n",
        "\n",
        "def sql_insert_has_parent(commentid,parentid,parent,comment,subreddit,time,score):\n",
        "    try:\n",
        "        sql = \"\"\"INSERT INTO parent_reply (parent_id, comment_id, parent, comment, subreddit, unix, score) VALUES (\"{}\",\"{}\",\"{}\",\"{}\",\"{}\",{},{});\"\"\".format(parentid, commentid, parent, comment, subreddit, int(time), score)\n",
        "        transaction_bldr(sql)\n",
        "    except Exception as e:\n",
        "        print('s0 insertion',str(e))\n",
        "\n",
        "\n",
        "def sql_insert_no_parent(commentid,parentid,comment,subreddit,time,score):\n",
        "    try:\n",
        "        sql = \"\"\"INSERT INTO parent_reply (parent_id, comment_id, comment, subreddit, unix, score) VALUES (\"{}\",\"{}\",\"{}\",\"{}\",{},{});\"\"\".format(parentid, commentid, comment, subreddit, int(time), score)\n",
        "        transaction_bldr(sql)\n",
        "    except Exception as e:\n",
        "        print('s0 insertion',str(e))"
      ],
      "execution_count": null,
      "outputs": []
    },
    {
      "cell_type": "code",
      "metadata": {
        "id": "teAq_7tviu-R"
      },
      "source": [
        "if __name__== \"__main__\":\n",
        "    create_table()\n",
        "    row_counter = 0 \n",
        "    row_counter = 0 \n",
        "    paired_rows = 0 \n",
        "    \n",
        "    #The data below is being encoded with latin-1 not utf-8\n",
        "    with open(\"RC_2009-01\".format(timeframe.split('-')[0], timeframe), buffering=1000) as f:\n",
        "        for row in f:\n",
        "            row_counter += 1\n",
        "            row = json.loads(row)\n",
        "            parent_id = row['parent_id']\n",
        "            body = format_data(row['body'])\n",
        "            created_utc = row['created_utc']\n",
        "            score = row['score']\n",
        "            subreddit = row['subreddit']\n",
        "            parent_data = find_parent(parent_id) \n",
        "            comment_id = row['name']\n",
        "\n",
        "            if row_counter > 1000000:\n",
        "                break\n",
        "            if score >= 2:\n",
        "                if acceptable(body):\n",
        "                    existing_comment_score = find_existing_score(parent_id)\n",
        "                    if existing_comment_score:\n",
        "                        if score > existing_comment_score:\n",
        "                            sql_insert_replace_comment(comment_id, parent_id, parent_data, body, subreddit, created_utc, score)\n",
        "                    else:\n",
        "                        if parent_data:\n",
        "                            sql_insert_has_parent(comment_id, parent_id, parent_data, body, subreddit, created_utc, score)\n",
        "                            paired_rows += 1\n",
        "                        else:\n",
        "                            sql_insert_no_parent(comment_id, parent_id, body, subreddit, created_utc, score)\n",
        "\n",
        "            if row_counter % 10000 == 0:\n",
        "                print(\"Total rows read: {}, Paired rows: {}, Time: {}\".format(row_counter, paired_rows, str(datetime.now())))"
      ],
      "execution_count": null,
      "outputs": []
    }
  ]
}