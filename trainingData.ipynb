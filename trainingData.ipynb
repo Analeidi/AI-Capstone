{
  "nbformat": 4,
  "nbformat_minor": 0,
  "metadata": {
    "colab": {
      "name": "trainingData.ipynb",
      "provenance": [],
      "authorship_tag": "ABX9TyPrUN3tXEH+RouMdo2m5oZD",
      "include_colab_link": true
    },
    "kernelspec": {
      "name": "python3",
      "display_name": "Python 3"
    }
  },
  "cells": [
    {
      "cell_type": "markdown",
      "metadata": {
        "id": "view-in-github",
        "colab_type": "text"
      },
      "source": [
        "<a href=\"https://colab.research.google.com/github/Analeidi/AI-Capstone/blob/main/trainingData.ipynb\" target=\"_parent\"><img src=\"https://colab.research.google.com/assets/colab-badge.svg\" alt=\"Open In Colab\"/></a>"
      ]
    },
    {
      "cell_type": "code",
      "metadata": {
        "id": "7Nl9Xs5Nj4G4"
      },
      "source": [
        ""
      ],
      "execution_count": null,
      "outputs": []
    },
    {
      "cell_type": "markdown",
      "metadata": {
        "id": "SPJq3sd3kD5V"
      },
      "source": [
        "# Training Data"
      ]
    },
    {
      "cell_type": "code",
      "metadata": {
        "id": "9dEOMqEokTwc"
      },
      "source": [
        "import sqlite3\n",
        "import pandas as pd"
      ],
      "execution_count": null,
      "outputs": []
    },
    {
      "cell_type": "code",
      "metadata": {
        "id": "i7kqX6sSkXkF"
      },
      "source": [
        "#This can later be edited so that it can contain more months\n",
        "timeframes = ['2009-01']\n",
        "\n",
        "def pullData():\n",
        "    with open('test.from','a', encoding='utf8') as f:\n",
        "        for content in df['parent'].values:\n",
        "            f.write(content+'\\n')\n",
        "\n",
        "    with open('test.to','a', encoding='utf8') as f:\n",
        "        for content in df['comment'].values:\n",
        "            f.write(str(content)+'\\n')\n"
      ],
      "execution_count": null,
      "outputs": []
    },
    {
      "cell_type": "code",
      "metadata": {
        "id": "zdevyfpakbbk"
      },
      "source": [
        "for timeframe in timeframes:\n",
        "    connection = sqlite3.connect('{}.db'.format(timeframe))\n",
        "    c = connection.cursor()\n",
        "    limit = 50000\n",
        "    last_unix = 0 \n",
        "    cur_length = 0 \n",
        "    counter = 0 \n",
        "    test_done = False\n",
        "\n",
        "    while cur_length == limit:\n",
        "        df = pd.read_sql(\"SELECT * FROM parent_reply WHERE unix > {} and parent NOT NULL and score > 0 ORDER BY unix ASC LIMIT {}\".format(last_unix,limit),connection)\n",
        "        last_unix = df.tail(1)['unix'].values[0]\n",
        "        cur_length = len(df)\n",
        "\n",
        "        if not test_done:\n",
        "            pullData()\n",
        "            test_done = True\n",
        "        else:\n",
        "            pullData()\n",
        "        \n",
        "        counter += 1\n",
        "        if counter % 20 == 0:\n",
        "            print(counter*limit,'rows completed so far')"
      ],
      "execution_count": null,
      "outputs": []
    }
  ]
}