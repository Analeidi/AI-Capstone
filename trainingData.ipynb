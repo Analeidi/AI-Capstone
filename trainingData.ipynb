{
  "nbformat": 4,
  "nbformat_minor": 0,
  "metadata": {
    "colab": {
      "name": "trainingData.ipynb",
      "provenance": [],
      "mount_file_id": "https://github.com/Analeidi/AI-Capstone/blob/main/trainingData.ipynb",
      "authorship_tag": "ABX9TyMJBm4v8Kitxe6vvAQiipyH",
      "include_colab_link": true
    },
    "kernelspec": {
      "name": "python3",
      "display_name": "Python 3"
    },
    "accelerator": "GPU"
  },
  "cells": [
    {
      "cell_type": "markdown",
      "metadata": {
        "id": "view-in-github",
        "colab_type": "text"
      },
      "source": [
        "<a href=\"https://colab.research.google.com/github/Analeidi/AI-Capstone/blob/main/trainingData.ipynb\" target=\"_parent\"><img src=\"https://colab.research.google.com/assets/colab-badge.svg\" alt=\"Open In Colab\"/></a>"
      ]
    },
    {
      "cell_type": "code",
      "metadata": {
        "id": "7Nl9Xs5Nj4G4"
      },
      "source": [
        ""
      ],
      "execution_count": null,
      "outputs": []
    },
    {
      "cell_type": "markdown",
      "metadata": {
        "id": "SPJq3sd3kD5V"
      },
      "source": [
        "# Training Data"
      ]
    },
    {
      "cell_type": "code",
      "metadata": {
        "id": "9dEOMqEokTwc"
      },
      "source": [
        "import sqlite3\n",
        "import pandas as pd"
      ],
      "execution_count": 5,
      "outputs": []
    },
    {
      "cell_type": "code",
      "metadata": {
        "id": "zdevyfpakbbk",
        "outputId": "43563990-1d3a-44df-c48d-4f21c67c568e",
        "colab": {
          "base_uri": "https://localhost:8080/"
        }
      },
      "source": [
        "#This can later be edited so that it can contain more months\n",
        "path = \"/content/drive/MyDrive/Colab Notebooks/\"\n",
        "timeframes = ['2009-01']\n",
        "\n",
        "for timeframe in timeframes:\n",
        "    connection = sqlite3.connect(path+'{}.db'.format(timeframe))\n",
        "    c = connection.cursor()\n",
        "    limit = 5000\n",
        "    last_unix = 0\n",
        "    cur_length = limit\n",
        "    counter = 0\n",
        "    test_done = False\n",
        "\n",
        "    while cur_length == limit:\n",
        "        df = pd.read_sql(\"SELECT * FROM parent_reply WHERE unix > {} and parent NOT NULL and score > 0 ORDER BY unix ASC LIMIT {}\".format(last_unix,limit),connection)\n",
        "        last_unix = df.tail(1)['unix'].values[0]\n",
        "        cur_length = len(df)\n",
        "\n",
        "        if not test_done:\n",
        "            with open(path+'test.from','a', encoding='utf8') as f:\n",
        "                for content in df['parent'].values:\n",
        "                    f.write(content+'\\n')\n",
        "\n",
        "            with open(path+'test.to','a', encoding='utf8') as f:\n",
        "                for content in df['comment'].values:\n",
        "                    f.write(str(content)+'\\n')\n",
        "\n",
        "            test_done = True\n",
        "\n",
        "        else:\n",
        "            with open(path+'train.from','a', encoding='utf8') as f:\n",
        "                for content in df['parent'].values:\n",
        "                    f.write(content+'\\n')\n",
        "\n",
        "            with open(path+'train.to','a', encoding='utf8') as f:\n",
        "                for content in df['comment'].values:\n",
        "                    f.write(str(content)+'\\n')\n",
        "\n",
        "        counter += 1\n",
        "        if counter % 20 == 0:\n",
        "            print(counter*limit,'rows completed so far')\n",
        "\n"
      ],
      "execution_count": 41,
      "outputs": [
        {
          "output_type": "stream",
          "text": [
            "1231415717\n",
            "1231930960\n",
            "1232463286\n",
            "1232996365\n",
            "1233296916\n"
          ],
          "name": "stdout"
        }
      ]
    }
  ]
}